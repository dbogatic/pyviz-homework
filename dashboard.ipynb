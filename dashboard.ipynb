{
 "cells": [
  {
   "cell_type": "markdown",
   "metadata": {},
   "source": [
    "# San Francisco Rental Prices Dashboard\n",
    "\n",
    "In this notebook, you will compile the visualizations from the previous analysis into functions that can be used for a Panel dashboard."
   ]
  },
  {
   "cell_type": "code",
   "execution_count": null,
   "metadata": {},
   "outputs": [],
   "source": [
    "# imports\n",
    "import os\n",
    "import pandas as pd\n",
    "import matplotlib.pyplot as plt\n",
    "import plotly.express as px\n",
    "import hvplot.pandas\n",
    "from pathlib import Path\n",
    "from dotenv import load_dotenv\n",
    "import panel as pn\n",
    "from panel.interact import interact\n",
    "from panel import widgets\n",
    "\n",
    "%matplotlib inline"
   ]
  },
  {
   "cell_type": "code",
   "execution_count": 3,
   "metadata": {},
   "outputs": [],
   "source": [
    "# Read the Mapbox API key\n",
    "load_dotenv()\n",
    "mapbox_token = os.getenv(\"MAPBOX_API_KEY\")"
   ]
  },
  {
   "cell_type": "markdown",
   "metadata": {},
   "source": [
    "# Import Data"
   ]
  },
  {
   "cell_type": "code",
   "execution_count": 4,
   "metadata": {},
   "outputs": [],
   "source": [
    "# Import the CSVs to Pandas DataFrames\n",
    "file_path_sfo = Path(\"Data/sfo_neighborhoods_census_data.csv\")\n",
    "sfo_data = pd.read_csv(file_path_sfo, index_col=\"year\")\n",
    "\n",
    "file_path_geo = Path(\"Data/neighborhoods_coordinates.csv\")\n",
    "df_neighborhood_locations = pd.read_csv(file_path_geo)"
   ]
  },
  {
   "cell_type": "markdown",
   "metadata": {},
   "source": [
    "- - -"
   ]
  },
  {
   "cell_type": "markdown",
   "metadata": {},
   "source": [
    "## Panel Visualizations\n",
    "\n",
    "In this section, you will copy the code for each plot type from your analysis notebook and place it into separate functions that Panel can use to create panes for the dashboard. \n",
    "\n",
    "These functions will convert the plot object to a Panel pane.\n",
    "\n",
    "Be sure to include any DataFrame transformation/manipulation code required along with the plotting code.\n",
    "\n",
    "Return a Panel pane object from each function that can be used to build the dashboard.\n",
    "\n",
    "Note: Remove any `.show()` lines from the code. We want to return the plots instead of showing them. The Panel dashboard will then display the plots."
   ]
  },
  {
   "cell_type": "code",
   "execution_count": 5,
   "metadata": {},
   "outputs": [],
   "source": [
    "# Define Panel Visualization Functions\n",
    "def get_housing_units_per_year():\n",
    "    \"\"\"Housing Units Per Year.\"\"\"\n",
    "\n",
    "    average_housing_units = sfo_data.groupby('year').mean()\n",
    "    average_housing_units = average_housing_units[['housing_units']]\n",
    "    housing_units_per_year = average_housing_units.plot.bar(title=\"Average Housing Units in San Francisco 2010-2016\", legend=None)\n",
    "    plt.ylim(370000,387500)\n",
    "    plt.ylabel('housing units')\n",
    "\n",
    "\n",
    "    return housing_units_per_year\n",
    "\n",
    "def get_average_gross_rent_plot():\n",
    "    \"\"\"Average Gross Rent in San Francisco Per Year.\"\"\"\n",
    "\n",
    "    average_gross_rent = sfo_data.groupby('year').mean()\n",
    "    average_gross_rent = average_gross_rent[['gross_rent']]\n",
    "    average_gross_rent\n",
    "    average_gross_rent.plot.line(title=\"Average Gross Rent in San Francisco 2010-2016\", legend=None)\n",
    "    plt.ylabel('gross rent ($)')\n",
    "\n",
    "    return average_gross_rent\n",
    "\n",
    "\n",
    "\n",
    "def get_average_sale_price_plot():\n",
    "    \"\"\"Average Sales Price Per Year.\"\"\"\n",
    "    \n",
    "    average_sale_price = sfo_data.groupby('year').mean()\n",
    "    average_sale_price = average_sale_price[['sale_price_sqr_foot']]\n",
    "\n",
    "    average_sale_price_plot = average_sale_price.plot.line(title=\"Average Sale Price in San Francisco 2010-2016\", legend=None)\n",
    "    plt.ylabel('average sale price ($)')\n",
    "\n",
    "    return average_sale_price_plot\n",
    "\n",
    "\n",
    "\n",
    "def get_average_price_by_neighborhood():\n",
    "    \"\"\"Average Prices by Neighborhood.\"\"\"\n",
    "    \n",
    "    sfo_average_data = sfo_data.groupby(['year','neighborhood']).mean()\n",
    "    average_price_by_neighborhood = sfo_average_data.hvplot.line(groupby='neighborhood',x='year', y='sale_price_sqr_foot', label=\"Average Sale Price\", widget_location='top')\n",
    "\n",
    "    return get_average_price_by_neighborhood\n",
    "\n",
    "\n",
    "\n",
    "def get_top_ten_most_expensive_neighborhoods():\n",
    "    \"\"\"Top 10 Most Expensive Neighborhoods.\"\"\"\n",
    "\n",
    "    sfo_average_data = sfo_data.groupby(['neighborhood']).mean()\n",
    "    sfo_average_data.iloc[:,0]\n",
    "    sfo_average_data_sorted = sfo_average_data.iloc[:,0].sort_values(ascending=False)\n",
    "    sfo_top_ten_sale_price = sfo_average_data_sorted.head(10)\n",
    "    top_ten_most_expensive_neighborhoods = sfo_top_ten_sale_price.hvplot.bar(ylabel='sale price ($)',x='neighborhood', ylim=(600,950),y='sale_price_sqr_foot', rot=60,label=\"Top 10 Sale Price\")\n",
    "\n",
    "    return top_ten_most_expensive_neighborhoods\n",
    "\n",
    "\n",
    "\n",
    "def get_parallel_coordinates():\n",
    "    \"\"\"Parallel Coordinates Plot.\"\"\"\n",
    "\n",
    "    average_sale_price = sfo_data.groupby('neighborhood').mean()\n",
    "    average_sale_price.reset_index(inplace=True)\n",
    "    average_sale_price.sort_values(\"sale_price_sqr_foot\", inplace=True, ascending=False)\n",
    "    parallel_coordinates = px.parallel_coordinates(average_sale_price, color =\n",
    "    'sale_price_sqr_foot', color_continuous_scale=px.colors.sequential.Inferno,\n",
    "    labels={\"sale_price_sqr_foot\": \"Sale Price\",\n",
    "        \"housing_units\": \"Housing Units\",\n",
    "        \"gross_rent\": \"Gross Rent\"})\n",
    "\n",
    "    return parallel_coordinates\n",
    "       \n",
    "\n",
    "\n",
    "def get_parallel_categories():\n",
    "    \"\"\"Parallel Categories Plot.\"\"\"\n",
    "    average_sale_price = sfo_data.groupby('neighborhood').mean()\n",
    "    average_sale_price.reset_index(inplace=True)\n",
    "    average_sale_price.sort_values(\"sale_price_sqr_foot\", inplace=True, ascending=False)\n",
    "    parallel_categories = px.parallel_categories(\n",
    "    average_sale_price,\n",
    "    dimensions=[\"neighborhood\",\"sale_price_sqr_foot\", \"housing_units\", \"gross_rent\"],\n",
    "    color=\"sale_price_sqr_foot\",\n",
    "    color_continuous_scale=px.colors.sequential.Inferno,\n",
    "    labels={\n",
    "        \"sale_price_sqr_foot\": \"Sale Price\",\n",
    "        \"housing_units\": \"Housing Units\",\n",
    "        \"gross_rent\": \"Gross Rent\",\n",
    "    },\n",
    ")\n",
    "    return parallel_categories\n",
    "\n",
    "\n",
    "\n",
    "def get_neighborhood_map():\n",
    "    \"\"\"Neighborhood Map\"\"\"\n",
    "    \n",
    "    average_sale_price = sfo_data.groupby('neighborhood').mean()\n",
    "    average_sale_price.reset_index(inplace=True)\n",
    "    average_sale_price.sort_values(\"sale_price_sqr_foot\", inplace=True, ascending=False)\n",
    "    average_sale_price_geo_data = pd.concat([average_sale_price,        df_neighborhood_locations], axis='columns', join='inner')\n",
    "    average_sale_price_geo_data.drop(['Neighborhood'], axis=1, inplace=True)\n",
    "    load_dotenv()\n",
    "    map_box_api = os.getenv(\"MAPBOX_API_KEY\")\n",
    "    px.set_mapbox_access_token(map_box_api)\n",
    "    neighborhood_map = px.scatter_mapbox(\n",
    "    average_sale_price_geo_data,\n",
    "    lat=\"Lat\",\n",
    "    lon=\"Lon\",\n",
    "    size= \"sale_price_sqr_foot\",\n",
    "    color= \"sale_price_sqr_foot\", \n",
    "    zoom=4,title=\"Average Sale Price in San Francisco 2010-2016\",\n",
    "    labels={\"sale_price_sqr_foot\": \"Sale Price (sq/ft)\"})\n",
    "\n",
    "    return neighborhood_map\n"
   ]
  },
  {
   "cell_type": "markdown",
   "metadata": {},
   "source": [
    "## Panel Dashboard\n",
    "\n",
    "In this section, you will combine all of the plots into a single dashboard view using Panel. Be creative with your dashboard design!"
   ]
  },
  {
   "cell_type": "code",
   "execution_count": null,
   "metadata": {},
   "outputs": [],
   "source": [
    "bar_column = pn.Column(\"## San Francisco Average Housing Data\",get_housing_units_per_year(), get_average_sale_price_plot(), get_average_gross_rent_plot(), get_average_price_by_neighborhood(), get_top_ten_most_expensive_neighborhoods())\n",
    "\n",
    "statistics_column = pn.Column(\"## Statistics Data\", get_parallel_coordinates(), get_parallel_categories())\n",
    "\n",
    "geo_column = pn.Column(\"## Geo Data\", get_neighborhood_map())"
   ]
  },
  {
   "cell_type": "code",
   "execution_count": null,
   "metadata": {},
   "outputs": [],
   "source": [
    "sfo_housing_dashbord = pn.Tabs(\n",
    "    (\"Housing Data\", bar_column),\n",
    "    (\"Statistical Data\", statistics_column),\n",
    "    (\"Geo Housing Data\", geo_column))"
   ]
  },
  {
   "cell_type": "markdown",
   "metadata": {},
   "source": [
    "## Serve the Panel Dashboard"
   ]
  },
  {
   "cell_type": "code",
   "execution_count": null,
   "metadata": {},
   "outputs": [],
   "source": [
    "sfo_housing_dashbord.servable()"
   ]
  },
  {
   "cell_type": "code",
   "execution_count": null,
   "metadata": {},
   "outputs": [],
   "source": []
  }
 ],
 "metadata": {
  "file_extension": ".py",
  "kernelspec": {
   "name": "Python 3.7.7 64-bit ('pyvizenv': conda)",
   "display_name": "Python 3.7.7 64-bit ('pyvizenv': conda)",
   "metadata": {
    "interpreter": {
     "hash": "6d180c226e1fb546a2a1623a132f2a8812479d52f4604fddc733d95b32da65e3"
    }
   }
  },
  "language_info": {
   "codemirror_mode": {
    "name": "ipython",
    "version": 3
   },
   "file_extension": ".py",
   "mimetype": "text/x-python",
   "name": "python",
   "nbconvert_exporter": "python",
   "pygments_lexer": "ipython3",
   "version": "3.7.7-final"
  },
  "mimetype": "text/x-python",
  "name": "python",
  "npconvert_exporter": "python",
  "pygments_lexer": "ipython3",
  "version": 3
 },
 "nbformat": 4,
 "nbformat_minor": 4
}